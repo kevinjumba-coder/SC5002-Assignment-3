{
 "cells": [
  {
   "cell_type": "code",
   "execution_count": null,
   "metadata": {},
   "outputs": [],
   "source": [
    "import pandas as pd\n",
    "import numpy as np\n",
    "import matplotlib.pyplot as plt\n",
    "from sklearn.model_selection import train_test_split, cross_val_score\n",
    "from sklearn.preprocessing import LabelEncoder, StandardScaler\n",
    "from sklearn.neural_network import MLPClassifier\n",
    "from sklearn.metrics import accuracy_score, confusion_matrix, classification_report, silhouette_score\n",
    "from sklearn.cluster import KMeans"
   ]
  },
  {
   "cell_type": "markdown",
   "metadata": {},
   "source": [
    "# Task 2 - Data reprocessing"
   ]
  },
  {
   "cell_type": "code",
   "execution_count": 10,
   "metadata": {},
   "outputs": [],
   "source": [
    "### Load the Dataset\n",
    "\n",
    "df = pd.read_csv('/Users/macbook/Desktop/customer_shopping_data.csv')"
   ]
  },
  {
   "cell_type": "code",
   "execution_count": 7,
   "metadata": {},
   "outputs": [
    {
     "data": {
      "text/html": [
       "<div>\n",
       "<style scoped>\n",
       "    .dataframe tbody tr th:only-of-type {\n",
       "        vertical-align: middle;\n",
       "    }\n",
       "\n",
       "    .dataframe tbody tr th {\n",
       "        vertical-align: top;\n",
       "    }\n",
       "\n",
       "    .dataframe thead th {\n",
       "        text-align: right;\n",
       "    }\n",
       "</style>\n",
       "<table border=\"1\" class=\"dataframe\">\n",
       "  <thead>\n",
       "    <tr style=\"text-align: right;\">\n",
       "      <th></th>\n",
       "      <th>gender</th>\n",
       "      <th>age</th>\n",
       "      <th>quantity</th>\n",
       "      <th>payment_method</th>\n",
       "      <th>shopping_mall</th>\n",
       "    </tr>\n",
       "  </thead>\n",
       "  <tbody>\n",
       "    <tr>\n",
       "      <th>59044</th>\n",
       "      <td>0</td>\n",
       "      <td>21</td>\n",
       "      <td>1</td>\n",
       "      <td>1</td>\n",
       "      <td>5</td>\n",
       "    </tr>\n",
       "    <tr>\n",
       "      <th>69682</th>\n",
       "      <td>0</td>\n",
       "      <td>63</td>\n",
       "      <td>1</td>\n",
       "      <td>2</td>\n",
       "      <td>3</td>\n",
       "    </tr>\n",
       "    <tr>\n",
       "      <th>79039</th>\n",
       "      <td>0</td>\n",
       "      <td>68</td>\n",
       "      <td>1</td>\n",
       "      <td>1</td>\n",
       "      <td>5</td>\n",
       "    </tr>\n",
       "    <tr>\n",
       "      <th>87384</th>\n",
       "      <td>0</td>\n",
       "      <td>31</td>\n",
       "      <td>5</td>\n",
       "      <td>0</td>\n",
       "      <td>2</td>\n",
       "    </tr>\n",
       "    <tr>\n",
       "      <th>808</th>\n",
       "      <td>0</td>\n",
       "      <td>40</td>\n",
       "      <td>2</td>\n",
       "      <td>2</td>\n",
       "      <td>1</td>\n",
       "    </tr>\n",
       "  </tbody>\n",
       "</table>\n",
       "</div>"
      ],
      "text/plain": [
       "       gender  age  quantity  payment_method  shopping_mall\n",
       "59044       0   21         1               1              5\n",
       "69682       0   63         1               2              3\n",
       "79039       0   68         1               1              5\n",
       "87384       0   31         5               0              2\n",
       "808         0   40         2               2              1"
      ]
     },
     "execution_count": 7,
     "metadata": {},
     "output_type": "execute_result"
    }
   ],
   "source": [
    "# Step 1: Drop irrelevant columns\n",
    "df_clean = df.drop(columns=[\"invoice_no\", \"customer_id\", \"invoice_date\",\"price\"])\n",
    "\n",
    "# Step 2: Encode categorical variables using LabelEncoder\n",
    "from sklearn.preprocessing import LabelEncoder\n",
    "\n",
    "categorical_cols = [\"gender\", \"category\", \"payment_method\", \"shopping_mall\"]\n",
    "label_encoders = {}\n",
    "\n",
    "for col in categorical_cols:\n",
    "    le = LabelEncoder()\n",
    "    df_clean[col] = le.fit_transform(df_clean[col])\n",
    "    label_encoders[col] = le  # store encoder for future decoding if needed\n",
    "\n",
    "# Step 3: Check for missing values\n",
    "missing_values = df_clean.isnull().sum()\n",
    "\n",
    "# Step 4: Split into features and target\n",
    "X = df_clean.drop(columns=[\"category\"])\n",
    "y = df_clean[\"category\"]\n",
    "\n",
    "# Step 5: Split into training and testing sets\n",
    "from sklearn.model_selection import train_test_split\n",
    "\n",
    "X_train, X_test, y_train, y_test = train_test_split(X, y, test_size=0.2, random_state=42)\n",
    "\n",
    "# Show result\n",
    "X_train.head()\n",
    "\n",
    "\n"
   ]
  },
  {
   "cell_type": "markdown",
   "metadata": {},
   "source": [
    "# Task 4 - Model Training and evaluation"
   ]
  },
  {
   "cell_type": "code",
   "execution_count": null,
   "metadata": {},
   "outputs": [
    {
     "data": {
      "image/png": "[encoded data removed]",
      "text/plain": [
       "<Figure size 800x500 with 1 Axes>"
      ]
     },
     "metadata": {},
     "output_type": "display_data"
    },
    {
     "name": "stdout",
     "output_type": "stream",
     "text": [
      "Silhouette Score for k=2: 0.080\n"
     ]
    },
    {
     "data": {
      "text/plain": [
       "(np.float64(0.34691133035882615), 0.34611904283128897)"
      ]
     },
     "execution_count": 11,
     "metadata": {},
     "output_type": "execute_result"
    }
   ],
   "source": [
    "from sklearn.neural_network import MLPClassifier\n",
    "from sklearn.model_selection import cross_val_score, train_test_split\n",
    "from sklearn.metrics import accuracy_score\n",
    "from sklearn.cluster import KMeans\n",
    "import matplotlib.pyplot as plt\n",
    "\n",
    "## Ensure data is preprocessed and split\n",
    "X_train = X_train.reset_index(drop=True)\n",
    "X_test = X_test.reset_index(drop=True)\n",
    "y_train = y_train.reset_index(drop=True)\n",
    "y_test = y_test.reset_index(drop=True) #drop=True ensures all subsets (X_train, X_test, etc.) have consistent, clean indexing starting from 0\n",
    "\n",
    "\n",
    "## Classification using Multi-Layer Perceptron (MLP)\n",
    "mlp = MLPClassifier(hidden_layer_sizes=(64, 32), max_iter=300, random_state=42) #Initializes an MLP (Multi-Layer Perceptron) neural network.\n",
    "\n",
    "\n",
    "## Perform 5-fold cross-validation\n",
    "mlp_cv_scores = cross_val_score(mlp, X_train, y_train, cv=5, scoring='accuracy') #Splits training data into 5 subsets → trains on 4, tests on 1 → repeats 5 times.\n",
    "\n",
    "\n",
    "## Train and evaluate on test set\n",
    "mlp.fit(X_train, y_train)\n",
    "y_pred = mlp.predict(X_test) #predicts labels for test set using the trained model.\n",
    "mlp_test_accuracy = accuracy_score(y_test, y_pred) #Calculates the accuracy of the predictions made on the test set.\n",
    "\n",
    "\n",
    "## Clustering using KMeans and Elbow Method\n",
    "\n",
    "k_values = list(range(1, 11))  # For Elbow method, start from k=1\n",
    "inertias = [] # Will store the Within-Cluster Sum of Squares (WCSS) for each k\n",
    "\n",
    "for k in k_values:\n",
    "    kmeans = KMeans(n_clusters=k, random_state=42, n_init=10, max_iter=300) #for each k from 1 to 10, create a kMeans model and \n",
    "    kmeans.fit(X_train) #fit it on training data \n",
    "    inertias.append(kmeans.inertia_) #Store the inertia (WCSS), which indicates cluster compactness\n",
    "\n",
    "# Plot Elbow Method\n",
    "plt.figure(figsize=(8, 5))\n",
    "plt.plot(k_values, inertias, marker='o')\n",
    "plt.title(\"Elbow Method: Inertia vs Number of Clusters (k)\")\n",
    "plt.xlabel(\"Number of Clusters (k)\")\n",
    "plt.ylabel(\"Inertia (Within-cluster SSE)\")\n",
    "plt.grid(True)\n",
    "plt.show()\n",
    "\n",
    "\n",
    "## Silhouette Score for Clustering Quality\n",
    "\n",
    "from sklearn.metrics import silhouette_score\n",
    "\n",
    "# Use k = 2 as an example (optimal from elbow curve)\n",
    "k_opt = 2\n",
    "kmeans = KMeans(n_clusters=k_opt, random_state=42, n_init=10)\n",
    "kmeans.fit(X_scaled)\n",
    "labels = kmeans.labels_\n",
    "\n",
    "sil_score = silhouette_score(X_scaled, labels) # Measures how well-defined the clusters are.\n",
    "print(f\"Silhouette Score for k={k_opt}: {sil_score:.3f}\")\n",
    "\n",
    "\n",
    "## Output results\n",
    "mlp_cv_scores.mean(), mlp_test_accuracy # average accuracy across the 5 folds of cross-validation on the training set and final accuracy on the test set \n"
   ]
  },
  {
   "cell_type": "code",
   "execution_count": 17,
   "metadata": {},
   "outputs": [
    {
     "name": "stdout",
     "output_type": "stream",
     "text": [
      "Fold 1: Inertia = 233321.12\n",
      "Fold 2: Inertia = 233598.79\n",
      "Fold 3: Inertia = 232890.76\n",
      "Fold 4: Inertia = 233368.68\n",
      "Fold 5: Inertia = 233813.44\n",
      "\n",
      "Average Inertia across 5 folds (k=5): 233398.56\n"
     ]
    }
   ],
   "source": [
    "##  manual K-Fold CV and math with NumPy.\n",
    "from sklearn.model_selection import KFold\n",
    "from sklearn.cluster import KMeans\n",
    "import numpy as np\n",
    "\n",
    "## Parameters\n",
    "kmeans_k = 5         # Number of clusters\n",
    "n_splits = 5         # Number of cross-validation folds\n",
    "\n",
    "kf = KFold(n_splits=n_splits, shuffle=True, random_state=42) #Randomizes the data before splitting.\n",
    "inertia_scores = [] #Stores inertia for each fold.\n",
    "\n",
    "\n",
    "## Perform 5-fold CV\n",
    "for i, (train_index, _) in enumerate(kf.split(X_scaled)): \n",
    "    X_fold = X_scaled[train_index]\n",
    "    kmeans = KMeans(n_clusters=kmeans_k, random_state=42, n_init=10)\n",
    "    kmeans.fit(X_fold) \n",
    "    \n",
    "    inertia = kmeans.inertia_\n",
    "    inertia_scores.append(inertia)\n",
    "    print(f\"Fold {i+1}: Inertia = {inertia:.2f}\") #for each fold, train KMeans on 80% of the data, Store inertia and print fold-specific inertia\n",
    "\n",
    "## Final average\n",
    "avg_inertia = np.mean(inertia_scores) #Calculates the average inertia across all 5 folds.\n",
    "print(f\"\\nAverage Inertia across {n_splits} folds (k={kmeans_k}): {avg_inertia:.2f}\")\n"
   ]
  },
  {
   "cell_type": "code",
   "execution_count": 13,
   "metadata": {},
   "outputs": [
    {
     "name": "stdout",
     "output_type": "stream",
     "text": [
      "MLP Cross-validation scores: [0.34694904 0.34688619 0.34688619 0.34688619 0.34694904]\n",
      "Mean CV accuracy: 0.34691133035882615\n",
      "Test set accuracy: 0.34611904283128897\n"
     ]
    }
   ],
   "source": [
    "## Prints out: Cross-validation results (training performance); Average cross-validation accuracy and Final test accuracy on unseen data\n",
    "\n",
    "print(\"MLP Cross-validation scores:\", mlp_cv_scores)\n",
    "print(\"Mean CV accuracy:\", mlp_cv_scores.mean())\n",
    "print(\"Test set accuracy:\", mlp_test_accuracy)\n"
   ]
  },
  {
   "cell_type": "markdown",
   "metadata": {},
   "source": [
    "# Task 4 - Analysis and comparison"
   ]
  },
  {
   "cell_type": "markdown",
   "metadata": {},
   "source": [
    "###  1. Performance Comparison\n",
    "\n",
    "####  MLP Classifier (Supervised)\n",
    "| Metric                     | Value           |\n",
    "|---------------------------|-----------------|\n",
    "| Cross-Validation Accuracy | ~**34.7%**      |\n",
    "| Test Accuracy             | ~**34.7%**      |\n",
    "\n",
    "- Performance is now realistic and matches the **Dummy Classifier**, which scored ~34.6%.\n",
    "- Indicates the current features (excluding `price`) are not strongly predictive of category.\n",
    "- The dataset may be noisy or lack discriminative features.\n",
    "\n",
    "####  KMeans Clustering (Unsupervised)\n",
    "- Evaluated using the **Elbow Method** (Inertia)\n",
    "- Best `k` selected visually from the elbow point (e.g., **k ≈ 4–6**)\n",
    "- Can identify customer groups using features like age, gender, quantity, etc., without labels\n",
    "\n",
    "---\n",
    "\n",
    "###  2. Sensitivity to Hyperparameters\n",
    "\n",
    "| Model | Sensitive To |\n",
    "|-------|--------------|\n",
    "| **MLP** | `hidden_layer_sizes`, `max_iter`, feature quality |\n",
    "| **KMeans** | Initial centroids (`random_state`), number of clusters `k` |\n",
    "\n",
    "- MLP is more sensitive to data quality and overfitting.\n",
    "- KMeans is highly sensitive to `k` and may form meaningless clusters if data isn’t scaled or cleaned.\n",
    "\n",
    "---\n",
    "\n",
    "###  3. Model Limitations\n",
    "\n",
    "| MLP (Supervised)           | KMeans (Unsupervised)         |\n",
    "|----------------------------|-------------------------------|\n",
    "| Needs labeled data         | No labels required            |\n",
    "| Risk of overfitting        | Risk of poorly separated clusters |\n",
    "| Accuracy depends on features | Output not directly interpretable |\n",
    "| Not suitable if labels are noisy | May fail if clusters overlap |\n",
    "\n",
    "---\n",
    "\n",
    "###  4. Use Case Recommendations\n",
    "\n",
    "| Scenario                                | Suggested Model | Why? |\n",
    "|----------------------------------------|------------------|------|\n",
    "| Predicting product category             |  MLP            | Uses labels to learn mappings |\n",
    "| Customer segmentation or targeting      | KMeans         | Finds groups without needing labels |\n",
    "| Noisy or weak features                  | Consider feature engineering | Both models rely on feature quality |\n",
    "| Highly imbalanced categories            | Use stratified splits or resampling | Improves fairness and performance |\n",
    "\n",
    "---\n",
    "\n",
    "### Sensitivity of K-Means to Initial Centroids\n",
    "\n",
    "K-Means clustering is known to be **sensitive to the initial placement of centroids**, especially when:\n",
    "\n",
    "1. **The data has overlapping or unevenly distributed clusters**\n",
    "2. **Clusters are of different densities or sizes**\n",
    "3. **Initial centroids are poorly spaced**\n",
    "\n",
    "---\n",
    "\n",
    "### What Happens When Centroids Are Poorly Initialized?\n",
    "\n",
    "If the centroids are randomly initialized in suboptimal positions:\n",
    "- The algorithm may **converge to a local minimum**, not the global optimum\n",
    "- The resulting clusters can be **misleading or unstable**\n",
    "- The **inertia value may be higher**, indicating worse compactness\n",
    "- The **consistency of results across runs** may vary significantly\n",
    "\n",
    "---\n",
    "\n",
    "###  Impact on Accuracy Score (When Labels Are Known)\n",
    "\n",
    "Although KMeans is **unsupervised**, we sometimes evaluate its performance by comparing its cluster assignments to true labels (e.g., using accuracy or Adjusted Rand Index):\n",
    "\n",
    "- Poor initialization → mismatched cluster-to-class mapping → lower accuracy\n",
    "- Good initialization → closer match to real groupings → higher accuracy\n",
    "\n",
    "---\n",
    "\n",
    "### Conclusion\n",
    "\n",
    "- The original perfect accuracy came from **price leaking label information**.\n",
    "- After removing `price`, performance is now **realistic**, with ~34.7% accuracy.\n",
    "- To improve results:\n",
    "  - Add more behavioral features (e.g., spending patterns, visit frequency)\n",
    "  - Try different models like Decision Trees or SVM\n",
    "  - Normalize or scale features for KMeans\n"
   ]
  },
  {
   "cell_type": "markdown",
   "metadata": {},
   "source": [
    "# Task 5 - Improving Model Performance"
   ]
  },
  {
   "cell_type": "code",
   "execution_count": 16,
   "metadata": {},
   "outputs": [
    {
     "data": {
      "image/png": "[encoded data removed]",
      "text/plain": [
       "<Figure size 800x500 with 1 Axes>"
      ]
     },
     "metadata": {},
     "output_type": "display_data"
    }
   ],
   "source": [
    "from sklearn.preprocessing import StandardScaler\n",
    "scaler = StandardScaler()\n",
    "X_scaled = scaler.fit_transform(X)\n",
    "k_range = range(2, 13)\n",
    "inertias = []\n",
    "\n",
    "for k in k_range:\n",
    "    kmeans = KMeans(n_clusters=k, random_state=42, n_init=10)\n",
    "    kmeans.fit(X_scaled)\n",
    "    inertias.append(kmeans.inertia_)\n",
    "\n",
    "# Plot the elbow method\n",
    "plt.figure(figsize=(8, 5))\n",
    "plt.plot(k_range, inertias, marker='o')\n",
    "plt.title(\"Elbow Method: Inertia vs Number of Clusters (k)\")\n",
    "plt.xlabel(\"Number of Clusters (k)\")\n",
    "plt.ylabel(\"Inertia (Within-cluster SSE)\")\n",
    "plt.grid(True)\n",
    "plt.show()"
   ]
  }
 ],
 "metadata": {
  "kernelspec": {
   "display_name": "Python 3",
   "language": "python",
   "name": "python3"
  },
  "language_info": {
   "codemirror_mode": {
    "name": "ipython",
    "version": 3
   },
   "file_extension": ".py",
   "mimetype": "text/x-python",
   "name": "python",
   "nbconvert_exporter": "python",
   "pygments_lexer": "ipython3",
   "version": "3.12.5"
  }
 },
 "nbformat": 4,
 "nbformat_minor": 2
}
